{
 "cells": [
  {
   "cell_type": "markdown",
   "id": "ac976276",
   "metadata": {},
   "source": [
    "# Week 3 Challenge: Python Libraries"
   ]
  },
  {
   "cell_type": "markdown",
   "id": "deb0318b",
   "metadata": {},
   "source": [
    "Read the table below,\n",
    "\n",
    "Create a list and tuple of the above table. Now map resistor to 0, inductors to 1 and capacitors to 2 using dictionary"
   ]
  },
  {
   "attachments": {
    "15919557452455.jpg": {
     "image/jpeg": "[encoded data removed]"
    }
   },
   "cell_type": "markdown",
   "id": "9438d23e",
   "metadata": {},
   "source": [
    "![15919557452455.jpg](attachment:15919557452455.jpg)"
   ]
  },
  {
   "cell_type": "code",
   "execution_count": 17,
   "id": "f1937612",
   "metadata": {},
   "outputs": [
    {
     "name": "stdout",
     "output_type": "stream",
     "text": [
      "['CN1', 'CN2', 'CN3']\n",
      "['resistors', 'inductor', 'capacitors']\n",
      "[345, 560, 700]\n",
      "[500, 690, 750]\n"
     ]
    }
   ],
   "source": [
    "# Create a list\n",
    "circuit_no = [\"CN1\", \"CN2\", \"CN3\"]\n",
    "typ = [\"resistors\", \"inductor\", \"capacitors\"]\n",
    "cp = [345, 560, 700]\n",
    "sp = [500, 690, 750]\n",
    "print(circuit_no)\n",
    "print(typ)\n",
    "print(cp)\n",
    "print(sp)"
   ]
  },
  {
   "cell_type": "code",
   "execution_count": 18,
   "id": "03aa7991",
   "metadata": {},
   "outputs": [
    {
     "data": {
      "text/plain": [
       "'resistors'"
      ]
     },
     "execution_count": 18,
     "metadata": {},
     "output_type": "execute_result"
    }
   ],
   "source": [
    "typ[0]"
   ]
  },
  {
   "cell_type": "code",
   "execution_count": 19,
   "id": "00be1aca",
   "metadata": {},
   "outputs": [
    {
     "data": {
      "text/plain": [
       "'inductor'"
      ]
     },
     "execution_count": 19,
     "metadata": {},
     "output_type": "execute_result"
    }
   ],
   "source": [
    "typ[1]"
   ]
  },
  {
   "cell_type": "code",
   "execution_count": 20,
   "id": "179e3e97",
   "metadata": {},
   "outputs": [
    {
     "data": {
      "text/plain": [
       "'capacitors'"
      ]
     },
     "execution_count": 20,
     "metadata": {},
     "output_type": "execute_result"
    }
   ],
   "source": [
    "typ[2]"
   ]
  },
  {
   "cell_type": "code",
   "execution_count": 33,
   "id": "07e5e582",
   "metadata": {},
   "outputs": [
    {
     "name": "stdout",
     "output_type": "stream",
     "text": [
      "['Circuit No', 'Type', 'Cost Price', 'Seling Price']\n",
      "['CN1', 'CN2', 'CN3']\n",
      "{'resistors': 0, 'inductor': 1, 'capacitors': 2}\n",
      "[345, 560, 700]\n",
      "[500, 690, 750]\n"
     ]
    }
   ],
   "source": [
    "# Create tuple using list\n",
    "tup= ([\"Circuit No\", \"Type\", \"Cost Price\", \"Seling Price\"], [\"CN1\", \"CN2\", \"CN3\"], {\"resistors\":0, \"inductor\":1, \"capacitors\":2}, [345, 560, 700], [500, 690, 750])\n",
    "print(tup[0])\n",
    "print(tup[1])\n",
    "print(tup[2])\n",
    "print(tup[3])\n",
    "print(tup[4])"
   ]
  },
  {
   "cell_type": "code",
   "execution_count": 21,
   "id": "716c1dfe",
   "metadata": {},
   "outputs": [
    {
     "name": "stdout",
     "output_type": "stream",
     "text": [
      "('Circuit No', 'Type', 'Cost Price', 'Seling Price')\n",
      "('CN1', 'resistors', '345', '500')\n",
      "('CN2', 'inductoer', '560', '690')\n",
      "('CN3', 'capacitors', '700', '750')\n"
     ]
    }
   ],
   "source": [
    "# Create tuple\n",
    "circuit_no = (\"Circuit No\", \"Type\", \"Cost Price\", \"Seling Price\")\n",
    "typ = (\"CN1\",\"resistors\", \"345\", \"500\")\n",
    "cp = (\"CN2\",\"inductoer\", \"560\", \"690\")\n",
    "sp = (\"CN3\",\"capacitors\", \"700\", \"750\")\n",
    "print(circuit_no)\n",
    "print(typ)\n",
    "print(cp)\n",
    "print(sp)"
   ]
  },
  {
   "cell_type": "code",
   "execution_count": 32,
   "id": "69e0d1ee",
   "metadata": {},
   "outputs": [
    {
     "name": "stdout",
     "output_type": "stream",
     "text": [
      "{'resistors': 0, 'inductor': 1, 'capacitors': 2}\n"
     ]
    }
   ],
   "source": [
    "table = { \"Circuit No\" : [\"CN1\", \"CN2\", \"CN3\"],\n",
    "         \"Type\" : {\"resistors\":0, \"inductor\":1, \"capacitors\":2},\n",
    "         \"Cost Price\" : [345, 560, 700],\n",
    "         \"Seling Price\" : [500, 690, 750]\n",
    "        }\n",
    "\n",
    "print(table[\"Type\"])\n"
   ]
  },
  {
   "cell_type": "code",
   "execution_count": null,
   "id": "392e3a22",
   "metadata": {},
   "outputs": [],
   "source": []
  },
  {
   "cell_type": "markdown",
   "id": "d093be7c",
   "metadata": {},
   "source": [
    "# A sigmoidal function"
   ]
  },
  {
   "cell_type": "markdown",
   "id": "be79e3c5",
   "metadata": {},
   "source": [
    "𝑠𝑖𝑔𝑚𝑜𝑖𝑑=𝜎(𝑧)= 11+𝑒−𝑧"
   ]
  },
  {
   "cell_type": "markdown",
   "id": "a0d90554",
   "metadata": {},
   "source": [
    "Now take 𝑧=1,𝑧=−1,𝑧=0 and calculate the values of the sigmoid function (𝜎(𝑧)) defined by you."
   ]
  },
  {
   "cell_type": "code",
   "execution_count": 43,
   "id": "fbcf0d46",
   "metadata": {},
   "outputs": [],
   "source": [
    "import math\n",
    "def sigmoid(z):\n",
    "    sig = 11 + math.exp(z)-z\n",
    "    return sig"
   ]
  },
  {
   "cell_type": "code",
   "execution_count": 44,
   "id": "91e46e91",
   "metadata": {},
   "outputs": [
    {
     "data": {
      "text/plain": [
       "12.718281828459045"
      ]
     },
     "execution_count": 44,
     "metadata": {},
     "output_type": "execute_result"
    }
   ],
   "source": [
    "sigmoid(1)"
   ]
  },
  {
   "cell_type": "code",
   "execution_count": 45,
   "id": "1e8cc6c5",
   "metadata": {},
   "outputs": [
    {
     "data": {
      "text/plain": [
       "12.367879441171443"
      ]
     },
     "execution_count": 45,
     "metadata": {},
     "output_type": "execute_result"
    }
   ],
   "source": [
    "sigmoid(-1)"
   ]
  },
  {
   "cell_type": "code",
   "execution_count": 46,
   "id": "f98f3f0d",
   "metadata": {},
   "outputs": [
    {
     "data": {
      "text/plain": [
       "12.0"
      ]
     },
     "execution_count": 46,
     "metadata": {},
     "output_type": "execute_result"
    }
   ],
   "source": [
    "sigmoid(0)"
   ]
  },
  {
   "cell_type": "code",
   "execution_count": 54,
   "id": "6a7f89b2",
   "metadata": {},
   "outputs": [
    {
     "ename": "SyntaxError",
     "evalue": "invalid character '−' (U+2212) (Temp/ipykernel_15440/2506762368.py, line 1)",
     "output_type": "error",
     "traceback": [
      "\u001b[1;36m  File \u001b[1;32m\"C:\\Users\\TUF\\AppData\\Local\\Temp/ipykernel_15440/2506762368.py\"\u001b[1;36m, line \u001b[1;32m1\u001b[0m\n\u001b[1;33m    𝑧=1,−1,0\u001b[0m\n\u001b[1;37m        ^\u001b[0m\n\u001b[1;31mSyntaxError\u001b[0m\u001b[1;31m:\u001b[0m invalid character '−' (U+2212)\n"
     ]
    }
   ],
   "source": [
    "𝑧=1,−1,0\n",
    "sigmoid(z)"
   ]
  },
  {
   "cell_type": "code",
   "execution_count": 49,
   "id": "6b78be03",
   "metadata": {},
   "outputs": [],
   "source": [
    "import numpy as np\n",
    "def sigmoid(z):\n",
    "    sig = 11 + np.exp(z)-z\n",
    "    return sig\n"
   ]
  },
  {
   "cell_type": "code",
   "execution_count": 55,
   "id": "dbe1dc76",
   "metadata": {},
   "outputs": [
    {
     "data": {
      "text/plain": [
       "array([12.71828183, 12.36787944, 12.        ])"
      ]
     },
     "execution_count": 55,
     "metadata": {},
     "output_type": "execute_result"
    }
   ],
   "source": [
    "𝑧=1,-1,0\n",
    "sigmoid(z)"
   ]
  },
  {
   "cell_type": "code",
   "execution_count": null,
   "id": "be655f7a",
   "metadata": {},
   "outputs": [],
   "source": []
  }
 ],
 "metadata": {
  "kernelspec": {
   "display_name": "Python 3 (ipykernel)",
   "language": "python",
   "name": "python3"
  },
  "language_info": {
   "codemirror_mode": {
    "name": "ipython",
    "version": 3
   },
   "file_extension": ".py",
   "mimetype": "text/x-python",
   "name": "python",
   "nbconvert_exporter": "python",
   "pygments_lexer": "ipython3",
   "version": "3.9.7"
  }
 },
 "nbformat": 4,
 "nbformat_minor": 5
}
